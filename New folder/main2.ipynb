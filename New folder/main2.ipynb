{
 "cells": [
  {
   "cell_type": "code",
   "execution_count": 24,
   "metadata": {},
   "outputs": [
    {
     "name": "stdout",
     "output_type": "stream",
     "text": [
      "it is utils\n"
     ]
    }
   ],
   "source": [
    "import utils"
   ]
  },
  {
   "cell_type": "code",
   "execution_count": 11,
   "metadata": {},
   "outputs": [],
   "source": [
    "class Person:\n",
    "    def __init__(self, name, age):\n",
    "        self._name = name\n",
    "        self._age = age\n",
    "    @property\n",
    "    def age(self):\n",
    "        \"\"\"doc age\"\"\"\n",
    "        print(\"get age\")\n",
    "        return self._age\n",
    "    \n",
    "    @age.setter\n",
    "    def age(self, new_v):\n",
    "        print(\"set age\")\n",
    "        if isinstance(new_v, int) & new_v > 0 & new_v <120:\n",
    "            self._age = new_v\n",
    "    \n",
    "    @property\n",
    "    def name(self):\n",
    "        print(\"get name\")\n",
    "        return self._name\n",
    "    @name.deleter\n",
    "    def name(self):\n",
    "        print(\"del name\")\n",
    "        del self._name"
   ]
  },
  {
   "cell_type": "code",
   "execution_count": 12,
   "metadata": {},
   "outputs": [],
   "source": [
    "p1 = Person(\"ali\", 36)"
   ]
  },
  {
   "cell_type": "code",
   "execution_count": 22,
   "metadata": {},
   "outputs": [
    {
     "name": "stdout",
     "output_type": "stream",
     "text": [
      "okh\n"
     ]
    }
   ],
   "source": [
    "try:\n",
    "    4/0\n",
    "except ZeroDivisionError:\n",
    "    print(\"okh\")"
   ]
  },
  {
   "cell_type": "code",
   "execution_count": 33,
   "metadata": {},
   "outputs": [
    {
     "data": {
      "text/plain": [
       "'utils'"
      ]
     },
     "execution_count": 33,
     "metadata": {},
     "output_type": "execute_result"
    }
   ],
   "source": [
    "utils.__name__"
   ]
  },
  {
   "cell_type": "code",
   "execution_count": 43,
   "metadata": {},
   "outputs": [],
   "source": [
    "import pack1"
   ]
  },
  {
   "cell_type": "code",
   "execution_count": 44,
   "metadata": {},
   "outputs": [],
   "source": [
    "c1 = classes.class1()"
   ]
  },
  {
   "cell_type": "code",
   "execution_count": 32,
   "metadata": {},
   "outputs": [
    {
     "data": {
      "text/plain": [
       "['',\n",
       " 'H:\\\\python_project\\\\New folder',\n",
       " 'D:\\\\Users\\\\Keyvan\\\\Anaconda3\\\\envs\\\\kvenv\\\\python37.zip',\n",
       " 'D:\\\\Users\\\\Keyvan\\\\Anaconda3\\\\envs\\\\kvenv\\\\DLLs',\n",
       " 'D:\\\\Users\\\\Keyvan\\\\Anaconda3\\\\envs\\\\kvenv\\\\lib',\n",
       " 'D:\\\\Users\\\\Keyvan\\\\Anaconda3\\\\envs\\\\kvenv',\n",
       " 'C:\\\\Users\\\\Keyvan\\\\AppData\\\\Roaming\\\\Python\\\\Python37\\\\site-packages',\n",
       " 'D:\\\\Users\\\\Keyvan\\\\Anaconda3\\\\envs\\\\kvenv\\\\lib\\\\site-packages',\n",
       " 'D:\\\\Users\\\\Keyvan\\\\Anaconda3\\\\envs\\\\kvenv\\\\lib\\\\site-packages\\\\win32',\n",
       " 'D:\\\\Users\\\\Keyvan\\\\Anaconda3\\\\envs\\\\kvenv\\\\lib\\\\site-packages\\\\win32\\\\lib',\n",
       " 'D:\\\\Users\\\\Keyvan\\\\Anaconda3\\\\envs\\\\kvenv\\\\lib\\\\site-packages\\\\Pythonwin',\n",
       " 'D:\\\\Users\\\\Keyvan\\\\Anaconda3\\\\envs\\\\kvenv\\\\lib\\\\site-packages\\\\IPython\\\\extensions',\n",
       " 'C:\\\\Users\\\\Keyvan\\\\.ipython']"
      ]
     },
     "execution_count": 32,
     "metadata": {},
     "output_type": "execute_result"
    }
   ],
   "source": [
    "sys.path"
   ]
  }
 ],
 "metadata": {
  "kernelspec": {
   "display_name": "Python 3",
   "language": "python",
   "name": "python3"
  },
  "language_info": {
   "codemirror_mode": {
    "name": "ipython",
    "version": 3
   },
   "file_extension": ".py",
   "mimetype": "text/x-python",
   "name": "python",
   "nbconvert_exporter": "python",
   "pygments_lexer": "ipython3",
   "version": "3.7.0"
  }
 },
 "nbformat": 4,
 "nbformat_minor": 2
}
