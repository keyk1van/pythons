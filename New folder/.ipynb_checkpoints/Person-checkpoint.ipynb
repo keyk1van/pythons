{
 "cells": [
  {
   "cell_type": "code",
   "execution_count": 1,
   "metadata": {},
   "outputs": [
    {
     "name": "stdout",
     "output_type": "stream",
     "text": [
      "it is utils\n"
     ]
    }
   ],
   "source": [
    "\"\"\"utils module\"\"\"\n",
    "print(\"it is utils\")"
   ]
  },
  {
   "cell_type": "code",
   "execution_count": 2,
   "metadata": {},
   "outputs": [],
   "source": [
    "def printer(x):\n",
    "    print(\"printer\")\n",
    "    print(x)\n",
    "    print(\"end\")"
   ]
  },
  {
   "cell_type": "code",
   "execution_count": 3,
   "metadata": {},
   "outputs": [],
   "source": [
    "class Shape:\n",
    "    def __init__(self, idd):\n",
    "        self._idd = idd\n",
    "    def __str__(self):\n",
    "        return \"Shape- \" + self.idd\n",
    "    \n",
    "    @property\n",
    "    def idd(self):\n",
    "        print(\"idd method\")\n",
    "        return self._idd\n",
    "    \n",
    "    @idd.setter\n",
    "    def idd(self, value):\n",
    "        print(\"iddSet method\")\n",
    "        self._idd = value\n",
    "    "
   ]
  },
  {
   "cell_type": "code",
   "execution_count": 4,
   "metadata": {},
   "outputs": [],
   "source": [
    "default_shape = Shape(\"square\")"
   ]
  }
 ],
 "metadata": {
  "kernelspec": {
   "display_name": "Python 3",
   "language": "python",
   "name": "python3"
  },
  "language_info": {
   "codemirror_mode": {
    "name": "ipython",
    "version": 3
   },
   "file_extension": ".py",
   "mimetype": "text/x-python",
   "name": "python",
   "nbconvert_exporter": "python",
   "pygments_lexer": "ipython3",
   "version": "3.7.0"
  }
 },
 "nbformat": 4,
 "nbformat_minor": 2
}
